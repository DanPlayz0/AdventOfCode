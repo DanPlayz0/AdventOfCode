{
  "cells": [
    {
      "cell_type": "markdown",
      "metadata": {
        "id": "view-in-github",
        "colab_type": "text"
      },
      "source": [
        "<a href=\"https://colab.research.google.com/github/DanPlayz0/AdventOfCode/blob/main/Lab06.ipynb\" target=\"_parent\"><img src=\"https://colab.research.google.com/assets/colab-badge.svg\" alt=\"Open In Colab\"/></a>"
      ]
    },
    {
      "cell_type": "markdown",
      "metadata": {
        "id": "1ffjBJA1dp2Y"
      },
      "source": [
        "<a href=\"https://colab.research.google.com/github/LMU-CMSI-1010/lab-notebooks-original/blob/main/Lab06.ipynb\" target=\"_parent\"><img src=\"https://colab.research.google.com/assets/colab-badge.svg\" alt=\"Open In Colab\"/></a>"
      ]
    },
    {
      "cell_type": "markdown",
      "metadata": {
        "id": "9aXfrLXg9seM"
      },
      "source": [
        "# Lab 06 Mixing Strings\n",
        "In this lab, you will practice working with strings and using loops with strings.\n",
        "\n",
        "## Warmup: Character counter\n",
        "\n",
        "In the following cell, **complete the function `count_character` that, given a string and character, returns the number of occurrences of the character in the string.** Right now, it just returns 0. We have some code to test your function and **you can add more calls to test it.**\n",
        "\n"
      ]
    },
    {
      "cell_type": "code",
      "execution_count": null,
      "metadata": {
        "id": "Rt0kFDWS9RJU",
        "outputId": "d33e7259-4b69-4738-da66-d15d9d0a08b7",
        "colab": {
          "base_uri": "https://localhost:8080/"
        }
      },
      "outputs": [
        {
          "output_type": "stream",
          "name": "stdout",
          "text": [
            "3\n",
            "4\n"
          ]
        }
      ],
      "source": [
        "# TODO: count_character is given a string s and a character c and returns the number\n",
        "# of occurrences of c in s\n",
        "def count_character(s, c):\n",
        "    counter = 0\n",
        "    for i in range(len(s)):\n",
        "      if s[i] == c:\n",
        "        counter += 1\n",
        "    return counter\n",
        "\n",
        "# Debugging function calls. You can add more or change\n",
        "# The following should return 3\n",
        "char_count = count_character('banana', 'a')\n",
        "print(char_count)\n",
        "\n",
        "# The following call should return 4\n",
        "char_count = count_character('mississippi', 's')\n",
        "print(char_count)\n",
        "\n",
        "# The following tests your code. Do not modify it.\n",
        "assert(count_character('banana', 'a') == 3)\n",
        "assert(count_character('mississippi', 's') == 4)\n",
        "assert(count_character('loyola', 'l') == 2)"
      ]
    },
    {
      "cell_type": "markdown",
      "metadata": {
        "id": "y2c-tRWA91fr"
      },
      "source": [
        "## Repeating Strings\n",
        "Python gives you an operator to make multiple copies of a string. However, below we want you to **complete this function to return a string `s` repeated `n` times _using a loop_ instead.** You can **test your code by running the code we have provided and creating your own function calls.**"
      ]
    },
    {
      "cell_type": "code",
      "execution_count": 7,
      "metadata": {
        "id": "NMcvm3E4-sl_",
        "outputId": "167e88cb-9602-4899-af89-552173a5e50a",
        "colab": {
          "base_uri": "https://localhost:8080/"
        }
      },
      "outputs": [
        {
          "output_type": "stream",
          "name": "stdout",
          "text": [
            "hellohellohello\n"
          ]
        }
      ],
      "source": [
        "# TODO: repeat_string is given the string s and returns a string that is n copies\n",
        "# of it.\n",
        "def repeat_string(s, n):\n",
        "    # As per guidelines, I am suppose to doc the code, although explanitory by the func name.\n",
        "    # I prefer the simple notation below ;)\n",
        "    # return s*n\n",
        "    \"\"\"\n",
        "      Takes twos inputs\n",
        "      s: str\n",
        "      n: int\n",
        "\n",
        "      Returns: s times n\n",
        "    \"\"\"\n",
        "    out = ''\n",
        "    for i in range(n):\n",
        "      out += s\n",
        "    return out\n",
        "\n",
        "print(repeat_string('hello', 3))\n",
        "\n",
        "# The code below tests your function. Do not modify it.\n",
        "assert(repeat_string('hello', 3) == 'hellohellohello')\n",
        "assert(repeat_string('hi', 5) == 'hihihihihi')"
      ]
    },
    {
      "cell_type": "markdown",
      "metadata": {
        "id": "zXC7orYI_T3E"
      },
      "source": [
        "## Mixing names\n",
        "In the following cell, you will write a program that will prompt a user for two names. The user should enter a first name and last name separated by a space.\n",
        "**You will have to figure out how to retrieve the first name and last name from the name input by the user. Then you will mix the two names up and output the new mixed names.**"
      ]
    },
    {
      "cell_type": "code",
      "execution_count": 9,
      "metadata": {
        "id": "fpq9XjRC_TJG",
        "outputId": "e18b79fa-874a-49ac-a3d9-20637a1a516a",
        "colab": {
          "base_uri": "https://localhost:8080/"
        }
      },
      "outputs": [
        {
          "output_type": "stream",
          "name": "stdout",
          "text": [
            "Please enter a FIRST NAME followed by a LAST NAME separated by a space:Danny Divinsky\n",
            "Please enter another FIRST NAME followed by a LAST NAME separated by a space:Tim Cook\n",
            "Here are the new mixed up names:\n",
            "Daim Diviok\n",
            "Tnny Consky\n"
          ]
        }
      ],
      "source": [
        "name1 = input('Please enter a FIRST NAME followed by a LAST NAME separated by a space:')\n",
        "name2 = input('Please enter another FIRST NAME followed by a LAST NAME separated by a space:')\n",
        "\n",
        "# TODO: Now process the user input to find the first names and last names\n",
        "# Right now you have strings containing both, so find the space first\n",
        "# and save the first name substrings and the last name substrings in separate variables\n",
        "# If you prefer, you can also use split() to separate the first and last names\n",
        "first_name1, last_name1 = name1.split(\" \")\n",
        "first_name2, last_name2 = name2.split(\" \")\n",
        "\n",
        "# TODO: In order to mix up the strings you need to find the midpoint of each name\n",
        "# Challenge: How could you split strings at random points instead?\n",
        "first_name1_mid = len(first_name1)//2\n",
        "last_name1_mid = len(last_name1)//2\n",
        "first_name2_mid = len(first_name2)//2\n",
        "last_name2_mid = len(last_name2)//2\n",
        "\n",
        "\n",
        "# TODO: Get the substrings for the first halves and second halves of each name\n",
        "# You want to combine the names to create 2 new first and last names\n",
        "# Make sure the capitalization is correct\n",
        "# Use capitalize() to capitalize and lower() to make all lowercase\n",
        "\n",
        "# Combine the first half of the first first name and the second half of the second\n",
        "# first name to create a new first name\n",
        "new_first_name1 = first_name1[0:1].capitalize() + (first_name1[1:first_name1_mid] + first_name2[first_name2_mid:]).lower()\n",
        "\n",
        "# TODO: Combine the first half of the first last name and the second half of the second\n",
        "# last name to create a new last name\n",
        "new_last_name1 = last_name1[0:1].capitalize() + (last_name1[1:last_name1_mid] + last_name2[last_name2_mid:]).lower()\n",
        "\n",
        "# TODO: Combine the first half of the second first name and the second half of the first\n",
        "# first name to create a new first name\n",
        "new_first_name2 = first_name2[0:1].capitalize() + (first_name2[1:first_name2_mid] + first_name1[first_name1_mid:]).lower()\n",
        "\n",
        "# TODO: Combine the first half of the second last name and the second half of the first\n",
        "# last name to create a new last name\n",
        "new_last_name2 = last_name2[0:1].capitalize() + (last_name2[1:last_name2_mid] + last_name1[last_name1_mid:]).lower()\n",
        "\n",
        "# print out both new names\n",
        "# you do not need to change the following code.\n",
        "print('Here are the new mixed up names:')\n",
        "print(new_first_name1, new_last_name1)\n",
        "print(new_first_name2, new_last_name2)\n",
        "\n",
        "assert(new_first_name1 != '')\n",
        "assert(new_first_name2 != '')\n",
        "assert(new_last_name1 != '')\n",
        "assert(new_last_name2 != '')"
      ]
    },
    {
      "cell_type": "markdown",
      "metadata": {
        "id": "dKL0LYd-E4JB"
      },
      "source": [
        "### (Optional) Reflections\n",
        "Add a text cell below to answer the following questions:\n",
        "1. What do you feel more confident about after completing this lab?\n",
        "2. What do you feel you can use more help with after completing this lab?\n",
        "3. Do you have any constructive suggestions on how we can help you or improve this lab?"
      ]
    },
    {
      "cell_type": "markdown",
      "metadata": {
        "id": "gB1aHDpyFYey"
      },
      "source": [
        "### Save your work to GitHub\n",
        "Please save this notebook to your lab repository."
      ]
    }
  ],
  "metadata": {
    "kernelspec": {
      "display_name": "Python 3",
      "language": "python",
      "name": "python3"
    },
    "language_info": {
      "codemirror_mode": {
        "name": "ipython",
        "version": 3
      },
      "file_extension": ".py",
      "mimetype": "text/x-python",
      "name": "python",
      "nbconvert_exporter": "python",
      "pygments_lexer": "ipython3",
      "version": "3.8.5"
    },
    "colab": {
      "provenance": [],
      "include_colab_link": true
    }
  },
  "nbformat": 4,
  "nbformat_minor": 0
}